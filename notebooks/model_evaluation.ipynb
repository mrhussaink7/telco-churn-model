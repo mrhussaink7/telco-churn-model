{
 "cells": [
  {
   "cell_type": "markdown",
   "id": "258bc179-d8a1-4650-9f7e-f1f81bfaa0ae",
   "metadata": {},
   "source": [
    "# Model Evaluation"
   ]
  },
  {
   "cell_type": "markdown",
   "id": "9f838010-caed-4071-bea1-740c0e971c16",
   "metadata": {},
   "source": [
    "In this notebook we will evaluate the performance of our models for the `Telco Customer Churn` dataset. We will compare Logistic Regression and with its Tuned Hyperparameter C, Decision Tree and with its Tuned Hyperparameters.\n",
    "\n",
    "By the end of this notebook, we will identify the strongest model for predicting customer churn for Telco."
   ]
  },
  {
   "cell_type": "code",
   "execution_count": 1,
   "id": "60f60d49-c316-49cb-9b04-3aaac1acc388",
   "metadata": {},
   "outputs": [
    {
     "data": {
      "text/html": [
       "<div>\n",
       "<style scoped>\n",
       "    .dataframe tbody tr th:only-of-type {\n",
       "        vertical-align: middle;\n",
       "    }\n",
       "\n",
       "    .dataframe tbody tr th {\n",
       "        vertical-align: top;\n",
       "    }\n",
       "\n",
       "    .dataframe thead th {\n",
       "        text-align: right;\n",
       "    }\n",
       "</style>\n",
       "<table border=\"1\" class=\"dataframe\">\n",
       "  <thead>\n",
       "    <tr style=\"text-align: right;\">\n",
       "      <th></th>\n",
       "      <th>Male</th>\n",
       "      <th>Partner</th>\n",
       "      <th>Dependents</th>\n",
       "      <th>SeniorCitizen</th>\n",
       "      <th>DurationMonths</th>\n",
       "      <th>PhoneService</th>\n",
       "      <th>MultipleLines</th>\n",
       "      <th>NoInternet</th>\n",
       "      <th>DSLInternet</th>\n",
       "      <th>FiberOpticInternet</th>\n",
       "      <th>OnlineSecurity</th>\n",
       "      <th>OnlineBackup</th>\n",
       "      <th>DeviceProtection</th>\n",
       "      <th>TechSupport</th>\n",
       "      <th>StreamingTV</th>\n",
       "      <th>StreamingMovies</th>\n",
       "      <th>MonthlyContract</th>\n",
       "      <th>AnnualContract</th>\n",
       "      <th>BiannualContract</th>\n",
       "      <th>MonthlyCharges</th>\n",
       "      <th>Churn</th>\n",
       "    </tr>\n",
       "  </thead>\n",
       "  <tbody>\n",
       "    <tr>\n",
       "      <th>0</th>\n",
       "      <td>0</td>\n",
       "      <td>1</td>\n",
       "      <td>0</td>\n",
       "      <td>0</td>\n",
       "      <td>1</td>\n",
       "      <td>0</td>\n",
       "      <td>0</td>\n",
       "      <td>0</td>\n",
       "      <td>1</td>\n",
       "      <td>0</td>\n",
       "      <td>0</td>\n",
       "      <td>1</td>\n",
       "      <td>0</td>\n",
       "      <td>0</td>\n",
       "      <td>0</td>\n",
       "      <td>0</td>\n",
       "      <td>1</td>\n",
       "      <td>0</td>\n",
       "      <td>0</td>\n",
       "      <td>29.85</td>\n",
       "      <td>0</td>\n",
       "    </tr>\n",
       "    <tr>\n",
       "      <th>1</th>\n",
       "      <td>1</td>\n",
       "      <td>0</td>\n",
       "      <td>0</td>\n",
       "      <td>0</td>\n",
       "      <td>34</td>\n",
       "      <td>1</td>\n",
       "      <td>0</td>\n",
       "      <td>0</td>\n",
       "      <td>1</td>\n",
       "      <td>0</td>\n",
       "      <td>1</td>\n",
       "      <td>0</td>\n",
       "      <td>1</td>\n",
       "      <td>0</td>\n",
       "      <td>0</td>\n",
       "      <td>0</td>\n",
       "      <td>0</td>\n",
       "      <td>1</td>\n",
       "      <td>0</td>\n",
       "      <td>56.95</td>\n",
       "      <td>0</td>\n",
       "    </tr>\n",
       "    <tr>\n",
       "      <th>2</th>\n",
       "      <td>1</td>\n",
       "      <td>0</td>\n",
       "      <td>0</td>\n",
       "      <td>0</td>\n",
       "      <td>2</td>\n",
       "      <td>1</td>\n",
       "      <td>0</td>\n",
       "      <td>0</td>\n",
       "      <td>1</td>\n",
       "      <td>0</td>\n",
       "      <td>1</td>\n",
       "      <td>1</td>\n",
       "      <td>0</td>\n",
       "      <td>0</td>\n",
       "      <td>0</td>\n",
       "      <td>0</td>\n",
       "      <td>1</td>\n",
       "      <td>0</td>\n",
       "      <td>0</td>\n",
       "      <td>53.85</td>\n",
       "      <td>1</td>\n",
       "    </tr>\n",
       "    <tr>\n",
       "      <th>3</th>\n",
       "      <td>1</td>\n",
       "      <td>0</td>\n",
       "      <td>0</td>\n",
       "      <td>0</td>\n",
       "      <td>45</td>\n",
       "      <td>0</td>\n",
       "      <td>0</td>\n",
       "      <td>0</td>\n",
       "      <td>1</td>\n",
       "      <td>0</td>\n",
       "      <td>1</td>\n",
       "      <td>0</td>\n",
       "      <td>1</td>\n",
       "      <td>1</td>\n",
       "      <td>0</td>\n",
       "      <td>0</td>\n",
       "      <td>0</td>\n",
       "      <td>1</td>\n",
       "      <td>0</td>\n",
       "      <td>42.30</td>\n",
       "      <td>0</td>\n",
       "    </tr>\n",
       "    <tr>\n",
       "      <th>4</th>\n",
       "      <td>0</td>\n",
       "      <td>0</td>\n",
       "      <td>0</td>\n",
       "      <td>0</td>\n",
       "      <td>2</td>\n",
       "      <td>1</td>\n",
       "      <td>0</td>\n",
       "      <td>0</td>\n",
       "      <td>0</td>\n",
       "      <td>1</td>\n",
       "      <td>0</td>\n",
       "      <td>0</td>\n",
       "      <td>0</td>\n",
       "      <td>0</td>\n",
       "      <td>0</td>\n",
       "      <td>0</td>\n",
       "      <td>1</td>\n",
       "      <td>0</td>\n",
       "      <td>0</td>\n",
       "      <td>70.70</td>\n",
       "      <td>1</td>\n",
       "    </tr>\n",
       "    <tr>\n",
       "      <th>...</th>\n",
       "      <td>...</td>\n",
       "      <td>...</td>\n",
       "      <td>...</td>\n",
       "      <td>...</td>\n",
       "      <td>...</td>\n",
       "      <td>...</td>\n",
       "      <td>...</td>\n",
       "      <td>...</td>\n",
       "      <td>...</td>\n",
       "      <td>...</td>\n",
       "      <td>...</td>\n",
       "      <td>...</td>\n",
       "      <td>...</td>\n",
       "      <td>...</td>\n",
       "      <td>...</td>\n",
       "      <td>...</td>\n",
       "      <td>...</td>\n",
       "      <td>...</td>\n",
       "      <td>...</td>\n",
       "      <td>...</td>\n",
       "      <td>...</td>\n",
       "    </tr>\n",
       "    <tr>\n",
       "      <th>7038</th>\n",
       "      <td>1</td>\n",
       "      <td>1</td>\n",
       "      <td>1</td>\n",
       "      <td>0</td>\n",
       "      <td>24</td>\n",
       "      <td>1</td>\n",
       "      <td>1</td>\n",
       "      <td>0</td>\n",
       "      <td>1</td>\n",
       "      <td>0</td>\n",
       "      <td>1</td>\n",
       "      <td>0</td>\n",
       "      <td>1</td>\n",
       "      <td>1</td>\n",
       "      <td>1</td>\n",
       "      <td>1</td>\n",
       "      <td>0</td>\n",
       "      <td>1</td>\n",
       "      <td>0</td>\n",
       "      <td>84.80</td>\n",
       "      <td>0</td>\n",
       "    </tr>\n",
       "    <tr>\n",
       "      <th>7039</th>\n",
       "      <td>0</td>\n",
       "      <td>1</td>\n",
       "      <td>1</td>\n",
       "      <td>0</td>\n",
       "      <td>72</td>\n",
       "      <td>1</td>\n",
       "      <td>1</td>\n",
       "      <td>0</td>\n",
       "      <td>0</td>\n",
       "      <td>1</td>\n",
       "      <td>0</td>\n",
       "      <td>1</td>\n",
       "      <td>1</td>\n",
       "      <td>0</td>\n",
       "      <td>1</td>\n",
       "      <td>1</td>\n",
       "      <td>0</td>\n",
       "      <td>1</td>\n",
       "      <td>0</td>\n",
       "      <td>103.20</td>\n",
       "      <td>0</td>\n",
       "    </tr>\n",
       "    <tr>\n",
       "      <th>7040</th>\n",
       "      <td>0</td>\n",
       "      <td>1</td>\n",
       "      <td>1</td>\n",
       "      <td>0</td>\n",
       "      <td>11</td>\n",
       "      <td>0</td>\n",
       "      <td>0</td>\n",
       "      <td>0</td>\n",
       "      <td>1</td>\n",
       "      <td>0</td>\n",
       "      <td>1</td>\n",
       "      <td>0</td>\n",
       "      <td>0</td>\n",
       "      <td>0</td>\n",
       "      <td>0</td>\n",
       "      <td>0</td>\n",
       "      <td>1</td>\n",
       "      <td>0</td>\n",
       "      <td>0</td>\n",
       "      <td>29.60</td>\n",
       "      <td>0</td>\n",
       "    </tr>\n",
       "    <tr>\n",
       "      <th>7041</th>\n",
       "      <td>1</td>\n",
       "      <td>1</td>\n",
       "      <td>0</td>\n",
       "      <td>1</td>\n",
       "      <td>4</td>\n",
       "      <td>1</td>\n",
       "      <td>1</td>\n",
       "      <td>0</td>\n",
       "      <td>0</td>\n",
       "      <td>1</td>\n",
       "      <td>0</td>\n",
       "      <td>0</td>\n",
       "      <td>0</td>\n",
       "      <td>0</td>\n",
       "      <td>0</td>\n",
       "      <td>0</td>\n",
       "      <td>1</td>\n",
       "      <td>0</td>\n",
       "      <td>0</td>\n",
       "      <td>74.40</td>\n",
       "      <td>1</td>\n",
       "    </tr>\n",
       "    <tr>\n",
       "      <th>7042</th>\n",
       "      <td>1</td>\n",
       "      <td>0</td>\n",
       "      <td>0</td>\n",
       "      <td>0</td>\n",
       "      <td>66</td>\n",
       "      <td>1</td>\n",
       "      <td>0</td>\n",
       "      <td>0</td>\n",
       "      <td>0</td>\n",
       "      <td>1</td>\n",
       "      <td>1</td>\n",
       "      <td>0</td>\n",
       "      <td>1</td>\n",
       "      <td>1</td>\n",
       "      <td>1</td>\n",
       "      <td>1</td>\n",
       "      <td>0</td>\n",
       "      <td>0</td>\n",
       "      <td>1</td>\n",
       "      <td>105.65</td>\n",
       "      <td>0</td>\n",
       "    </tr>\n",
       "  </tbody>\n",
       "</table>\n",
       "<p>7043 rows × 21 columns</p>\n",
       "</div>"
      ],
      "text/plain": [
       "      Male  Partner  Dependents  SeniorCitizen  DurationMonths  PhoneService  \\\n",
       "0        0        1           0              0               1             0   \n",
       "1        1        0           0              0              34             1   \n",
       "2        1        0           0              0               2             1   \n",
       "3        1        0           0              0              45             0   \n",
       "4        0        0           0              0               2             1   \n",
       "...    ...      ...         ...            ...             ...           ...   \n",
       "7038     1        1           1              0              24             1   \n",
       "7039     0        1           1              0              72             1   \n",
       "7040     0        1           1              0              11             0   \n",
       "7041     1        1           0              1               4             1   \n",
       "7042     1        0           0              0              66             1   \n",
       "\n",
       "      MultipleLines  NoInternet  DSLInternet  FiberOpticInternet  \\\n",
       "0                 0           0            1                   0   \n",
       "1                 0           0            1                   0   \n",
       "2                 0           0            1                   0   \n",
       "3                 0           0            1                   0   \n",
       "4                 0           0            0                   1   \n",
       "...             ...         ...          ...                 ...   \n",
       "7038              1           0            1                   0   \n",
       "7039              1           0            0                   1   \n",
       "7040              0           0            1                   0   \n",
       "7041              1           0            0                   1   \n",
       "7042              0           0            0                   1   \n",
       "\n",
       "      OnlineSecurity  OnlineBackup  DeviceProtection  TechSupport  \\\n",
       "0                  0             1                 0            0   \n",
       "1                  1             0                 1            0   \n",
       "2                  1             1                 0            0   \n",
       "3                  1             0                 1            1   \n",
       "4                  0             0                 0            0   \n",
       "...              ...           ...               ...          ...   \n",
       "7038               1             0                 1            1   \n",
       "7039               0             1                 1            0   \n",
       "7040               1             0                 0            0   \n",
       "7041               0             0                 0            0   \n",
       "7042               1             0                 1            1   \n",
       "\n",
       "      StreamingTV  StreamingMovies  MonthlyContract  AnnualContract  \\\n",
       "0               0                0                1               0   \n",
       "1               0                0                0               1   \n",
       "2               0                0                1               0   \n",
       "3               0                0                0               1   \n",
       "4               0                0                1               0   \n",
       "...           ...              ...              ...             ...   \n",
       "7038            1                1                0               1   \n",
       "7039            1                1                0               1   \n",
       "7040            0                0                1               0   \n",
       "7041            0                0                1               0   \n",
       "7042            1                1                0               0   \n",
       "\n",
       "      BiannualContract  MonthlyCharges  Churn  \n",
       "0                    0           29.85      0  \n",
       "1                    0           56.95      0  \n",
       "2                    0           53.85      1  \n",
       "3                    0           42.30      0  \n",
       "4                    0           70.70      1  \n",
       "...                ...             ...    ...  \n",
       "7038                 0           84.80      0  \n",
       "7039                 0          103.20      0  \n",
       "7040                 0           29.60      0  \n",
       "7041                 0           74.40      1  \n",
       "7042                 1          105.65      0  \n",
       "\n",
       "[7043 rows x 21 columns]"
      ]
     },
     "execution_count": 1,
     "metadata": {},
     "output_type": "execute_result"
    }
   ],
   "source": [
    "import numpy as np\n",
    "import pandas as pd\n",
    "import matplotlib.pyplot as plt\n",
    "import seaborn as sns\n",
    "from sklearn.linear_model import LogisticRegression\n",
    "from sklearn.tree import DecisionTreeClassifier\n",
    "from sklearn.preprocessing import StandardScaler\n",
    "from sklearn.model_selection import train_test_split, cross_validate, cross_val_score\n",
    "from sklearn.metrics import accuracy_score, confusion_matrix, classification_report\n",
    "from sklearn.metrics import log_loss, roc_curve, roc_auc_score\n",
    "import pickle\n",
    "import warnings\n",
    "warnings.filterwarnings('ignore')\n",
    "plt.style.use('ggplot')\n",
    "pd.set_option('display.max_columns', None)\n",
    "pd.set_option('display.float_format', '{:,.2f}'.format)\n",
    "\n",
    "df = pd.read_csv('../data/encoded_telco_churn.csv')\n",
    "df"
   ]
  },
  {
   "cell_type": "markdown",
   "id": "eb9ed074-bc9f-4ddf-8ce1-3549eb521799",
   "metadata": {},
   "source": [
    "### Model Builds from `model_development.ipynb`"
   ]
  },
  {
   "cell_type": "code",
   "execution_count": 2,
   "id": "ee6a3e7e-8cd2-4f35-b999-3971cec09ff0",
   "metadata": {},
   "outputs": [],
   "source": [
    "X = df.drop('Churn', axis=1)\n",
    "y = df['Churn']\n",
    "X_train, X_test, y_train, y_test = train_test_split(X, y, test_size=0.3, random_state=42)\n",
    "\n",
    "logreg_base = LogisticRegression()\n",
    "logreg_base.fit(X_train, y_train)\n",
    "logreg_base_ypred = logreg_base.predict(X_test)\n",
    "logreg_base_ypred_proba = logreg_base.predict_proba(X_test)\n",
    "\n",
    "logreg_tune = LogisticRegression(C=1e-2)\n",
    "logreg_tune.fit(X_train, y_train)\n",
    "logreg_tune_ypred = logreg_tune.predict(X_test)\n",
    "logreg_tune_ypred_proba = logreg_tune.predict_proba(X_test)\n",
    "\n",
    "dtree_base = DecisionTreeClassifier()\n",
    "dtree_base.fit(X_train, y_train)\n",
    "dtree_base_ypred = dtree_base.predict(X_test)\n",
    "dtree_base_ypred_proba = dtree_base.predict_proba(X_test)\n",
    "\n",
    "dtree_tune = DecisionTreeClassifier(max_depth=10, min_samples_split=100, min_samples_leaf=75, criterion='entropy')\n",
    "dtree_tune.fit(X_train, y_train)\n",
    "dtree_tune_ypred = dtree_tune.predict(X_test)\n",
    "dtree_tune_ypred_proba = dtree_tune.predict_proba(X_test)"
   ]
  },
  {
   "cell_type": "markdown",
   "id": "c72d4d9e-19b2-414a-a63d-8a00717329d6",
   "metadata": {},
   "source": [
    "6. Model evaluation\n",
    "- Explore the reports of the model\n",
    "- Feature importance, connect it back to your EDA (we inferred this and our model proved that)\n",
    "- Connect it back to the problem, how does the model solve the issue at hand, try and test the model, show its prediction with a sample\n",
    "- Use visualizations from the model, no more basic bullshit models\n",
    "- Create 3 recommendations if relevant, that the model predicts upon and use those to address the problem."
   ]
  },
  {
   "cell_type": "markdown",
   "id": "b695fa17-00ed-4286-bdb0-27aa83eb4a5b",
   "metadata": {},
   "source": [
    "## Model Evaluation `Scores`"
   ]
  },
  {
   "cell_type": "markdown",
   "id": "188d0a8b-6c37-4550-a2b5-90c9ca458198",
   "metadata": {
    "jp-MarkdownHeadingCollapsed": true
   },
   "source": [
    "### Simple Scores"
   ]
  },
  {
   "cell_type": "markdown",
   "id": "14294fc9-99de-4604-a926-b1fa1bdb0318",
   "metadata": {},
   "source": [
    "Logistic Regression Base Model:"
   ]
  },
  {
   "cell_type": "code",
   "execution_count": 3,
   "id": "4538ae37-df84-483f-b176-0fd636f9c115",
   "metadata": {},
   "outputs": [
    {
     "name": "stdout",
     "output_type": "stream",
     "text": [
      "0.8035967818267865\n",
      "0.41196871806881724\n"
     ]
    }
   ],
   "source": [
    "logreg_base_accuracy = accuracy_score(y_test, logreg_base_ypred)\n",
    "logreg_base_logloss = log_loss(y_test, logreg_base_ypred_proba)\n",
    "print(logreg_base_accuracy)\n",
    "print(logreg_base_logloss)"
   ]
  },
  {
   "cell_type": "markdown",
   "id": "aadfef24-0d3f-4fd1-9d59-863adb637d97",
   "metadata": {},
   "source": [
    "Logistic Regression Tuned C Model"
   ]
  },
  {
   "cell_type": "code",
   "execution_count": 4,
   "id": "d71fbc4e-9cb1-4fab-a421-b2e18dbba8c9",
   "metadata": {},
   "outputs": [
    {
     "name": "stdout",
     "output_type": "stream",
     "text": [
      "0.8054898248935163\n",
      "0.41815537267319935\n"
     ]
    }
   ],
   "source": [
    "logreg_tune_accuracy = accuracy_score(y_test, logreg_tune_ypred)\n",
    "logreg_tune_logloss = log_loss(y_test, logreg_tune_ypred_proba)\n",
    "print(logreg_tune_accuracy)\n",
    "print(logreg_tune_logloss)"
   ]
  },
  {
   "cell_type": "markdown",
   "id": "b42e332d-6277-436f-a239-30e511bccbef",
   "metadata": {},
   "source": [
    "Decision Tree Base Model"
   ]
  },
  {
   "cell_type": "code",
   "execution_count": 5,
   "id": "284296a4-81a8-4b4c-8a36-01c6e405e673",
   "metadata": {},
   "outputs": [
    {
     "name": "stdout",
     "output_type": "stream",
     "text": [
      "0.7231424514907714\n",
      "9.866192915319965\n"
     ]
    }
   ],
   "source": [
    "dtree_base_accuracy = accuracy_score(y_test, dtree_base_ypred)\n",
    "dtree_base_logloss = log_loss(y_test, dtree_base_ypred_proba)\n",
    "print(dtree_base_accuracy)\n",
    "print(dtree_base_logloss)"
   ]
  },
  {
   "cell_type": "markdown",
   "id": "3b0d2af9-6b52-446f-b1e5-995b8e53853b",
   "metadata": {},
   "source": [
    "Decision Tree Tuned Model"
   ]
  },
  {
   "cell_type": "code",
   "execution_count": 6,
   "id": "7f831010-1f72-48b5-a5aa-68c7c2573f53",
   "metadata": {},
   "outputs": [
    {
     "name": "stdout",
     "output_type": "stream",
     "text": [
      "0.7931850449597728\n",
      "0.4767381856865943\n"
     ]
    }
   ],
   "source": [
    "dtree_tune_accuracy = accuracy_score(y_test, dtree_tune_ypred)\n",
    "dtree_tune_logloss = log_loss(y_test, dtree_tune_ypred_proba)\n",
    "print(dtree_tune_accuracy)\n",
    "print(dtree_tune_logloss)"
   ]
  },
  {
   "cell_type": "markdown",
   "id": "741b80e9-f253-402d-8a58-344e09217b2c",
   "metadata": {
    "jp-MarkdownHeadingCollapsed": true
   },
   "source": [
    "### Classification Metrics"
   ]
  },
  {
   "cell_type": "markdown",
   "id": "d0670f99-9cd1-4dde-a615-a8b86b93006b",
   "metadata": {},
   "source": [
    "Logistic Regression Base Model"
   ]
  },
  {
   "cell_type": "code",
   "execution_count": 7,
   "id": "cf2116a2-ad6f-4ac5-b0d3-c4bdbdd4e93f",
   "metadata": {
    "scrolled": true
   },
   "outputs": [
    {
     "name": "stdout",
     "output_type": "stream",
     "text": [
      "Logistic Regression Base Model\n",
      "----------\n",
      "              precision    recall  f1-score   support\n",
      "\n",
      "           0       0.84      0.90      0.87      1539\n",
      "           1       0.67      0.55      0.61       574\n",
      "\n",
      "    accuracy                           0.80      2113\n",
      "   macro avg       0.76      0.73      0.74      2113\n",
      "weighted avg       0.80      0.80      0.80      2113\n",
      "\n"
     ]
    }
   ],
   "source": [
    "print('Logistic Regression Base Model')\n",
    "print('----------')\n",
    "logreg_base_report = classification_report(y_test, logreg_base_ypred)\n",
    "print(logreg_base_report)"
   ]
  },
  {
   "cell_type": "markdown",
   "id": "86a59a47-f56b-4d32-bff5-5169a0847255",
   "metadata": {},
   "source": [
    "Logistic Regression Tuned C Model"
   ]
  },
  {
   "cell_type": "code",
   "execution_count": 8,
   "id": "76eb79bd-8969-4e74-a573-0c0fe057ffe8",
   "metadata": {},
   "outputs": [
    {
     "name": "stdout",
     "output_type": "stream",
     "text": [
      "Logistic Regression Tuned Model\n",
      "----------\n",
      "              precision    recall  f1-score   support\n",
      "\n",
      "           0       0.83      0.92      0.87      1539\n",
      "           1       0.69      0.51      0.59       574\n",
      "\n",
      "    accuracy                           0.81      2113\n",
      "   macro avg       0.76      0.71      0.73      2113\n",
      "weighted avg       0.80      0.81      0.80      2113\n",
      "\n"
     ]
    }
   ],
   "source": [
    "print('Logistic Regression Tuned Model')\n",
    "print('----------')\n",
    "logreg_tune_report = classification_report(y_test, logreg_tune_ypred)\n",
    "print(logreg_tune_report)"
   ]
  },
  {
   "cell_type": "markdown",
   "id": "083d446d-bbe0-46c1-a3c3-d76e3a342888",
   "metadata": {},
   "source": [
    "Decision Tree Base Model"
   ]
  },
  {
   "cell_type": "code",
   "execution_count": 9,
   "id": "7b898643-716d-4f9a-93fd-4e0f87503dc1",
   "metadata": {},
   "outputs": [
    {
     "name": "stdout",
     "output_type": "stream",
     "text": [
      "Decision Tree Base Model\n",
      "----------\n",
      "              precision    recall  f1-score   support\n",
      "\n",
      "           0       0.81      0.81      0.81      1539\n",
      "           1       0.49      0.48      0.49       574\n",
      "\n",
      "    accuracy                           0.72      2113\n",
      "   macro avg       0.65      0.65      0.65      2113\n",
      "weighted avg       0.72      0.72      0.72      2113\n",
      "\n"
     ]
    }
   ],
   "source": [
    "print('Decision Tree Base Model')\n",
    "print('----------')\n",
    "dtree_base_report = classification_report(y_test, dtree_base_ypred)\n",
    "print(dtree_base_report)"
   ]
  },
  {
   "cell_type": "markdown",
   "id": "cee53807-cf7b-485d-83cf-63bded8d3b37",
   "metadata": {},
   "source": [
    "Decision Tree Tuned Model"
   ]
  },
  {
   "cell_type": "code",
   "execution_count": 10,
   "id": "622e736d-c420-4d30-a8b0-64e50d8f0d2e",
   "metadata": {},
   "outputs": [
    {
     "name": "stdout",
     "output_type": "stream",
     "text": [
      "Decision Tree Tuned Model\n",
      "----------\n",
      "              precision    recall  f1-score   support\n",
      "\n",
      "           0       0.83      0.90      0.86      1539\n",
      "           1       0.65      0.51      0.57       574\n",
      "\n",
      "    accuracy                           0.79      2113\n",
      "   macro avg       0.74      0.71      0.72      2113\n",
      "weighted avg       0.78      0.79      0.78      2113\n",
      "\n"
     ]
    }
   ],
   "source": [
    "print('Decision Tree Tuned Model')\n",
    "print('----------')\n",
    "dtree_tune_report = classification_report(y_test, dtree_tune_ypred)\n",
    "print(dtree_tune_report)"
   ]
  },
  {
   "cell_type": "markdown",
   "id": "3f048325-587c-4772-bde4-5a82435f6ed8",
   "metadata": {},
   "source": [
    "### Plots"
   ]
  },
  {
   "cell_type": "code",
   "execution_count": null,
   "id": "5df7d638-eaba-462e-be2a-1220c328e083",
   "metadata": {},
   "outputs": [],
   "source": []
  }
 ],
 "metadata": {
  "kernelspec": {
   "display_name": "Python 3 (ipykernel)",
   "language": "python",
   "name": "python3"
  },
  "language_info": {
   "codemirror_mode": {
    "name": "ipython",
    "version": 3
   },
   "file_extension": ".py",
   "mimetype": "text/x-python",
   "name": "python",
   "nbconvert_exporter": "python",
   "pygments_lexer": "ipython3",
   "version": "3.9.19"
  }
 },
 "nbformat": 4,
 "nbformat_minor": 5
}
